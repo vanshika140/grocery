{
  "nbformat": 4,
  "nbformat_minor": 0,
  "metadata": {
    "colab": {
      "provenance": []
    },
    "kernelspec": {
      "name": "python3",
      "display_name": "Python 3"
    },
    "language_info": {
      "name": "python"
    }
  },
  "cells": [
    {
      "cell_type": "markdown",
      "source": [
        "GROCERY STORE CALCULATOR"
      ],
      "metadata": {
        "id": "oFB570IKI7ah"
      }
    },
    {
      "cell_type": "code",
      "source": [
        "\n",
        "grocery_dict = {\n",
        "    \"Snacks\": {\"price\": 30, \"quantity\": 2},\n",
        "    \"Beverages\": {\"price\": 20, \"quantity\": 3},\n",
        "    \"Spices\": {\"price\": 50, \"quantity\": 1},\n",
        "    \"Cereals\": {\"price\": 40, \"quantity\": 5},\n",
        "    \"Bake\": {\"price\": 60, \"quantity\": 2}\n",
        "}\n",
        "print(grocery_dict)\n",
        "total_cost = 0\n",
        "for item in grocery_dict.values():\n",
        "    total_cost += item[\"price\"] * item[\"quantity\"]\n",
        "\n",
        "print(\"The price of the total items purchased :\",total_cost)"
      ],
      "metadata": {
        "colab": {
          "base_uri": "https://localhost:8080/"
        },
        "id": "ufp8c9FnRNsO",
        "outputId": "d048d6b7-f6e9-4aee-8190-29bfff4d0baa"
      },
      "execution_count": 16,
      "outputs": [
        {
          "output_type": "stream",
          "name": "stdout",
          "text": [
            "{'Snacks': {'price': 30, 'quantity': 2}, 'Beverages': {'price': 20, 'quantity': 3}, 'Spices': {'price': 50, 'quantity': 1}, 'Cereals': {'price': 40, 'quantity': 5}, 'Bake': {'price': 60, 'quantity': 2}}\n",
            "The price of the total items purchased : 490\n"
          ]
        }
      ]
    },
    {
      "cell_type": "code",
      "source": [
        "#By using user input approach.....\n",
        "prices=[]\n",
        "i=int(input(\"No. of prices u want to enter : \"))\n",
        "cnt=0\n",
        "while(cnt<i):\n",
        "  a=int(input(\"Enter the price of item : \"))\n",
        "  b=int(input(\"Discount offered : \"))\n",
        "  prices.append(float(a*((100-b)/100)))\n",
        "  cnt+=1\n",
        "sum=0\n",
        "z=0\n",
        "while(z<i):\n",
        "  sum=sum+prices[z]\n",
        "  z+=1\n",
        "print(\"Total Discounted Prices : \",sum)\n",
        "print(\"Total Price after GST : \",float(sum+sum*0.18))"
      ],
      "metadata": {
        "colab": {
          "base_uri": "https://localhost:8080/"
        },
        "id": "6kBvIUrQZfGW",
        "outputId": "c092d5b4-ebda-4eb1-8761-5ad01fa98702"
      },
      "execution_count": 5,
      "outputs": [
        {
          "output_type": "stream",
          "name": "stdout",
          "text": [
            "No. of prices u want to enter : 2\n",
            "Enter the price of item : 23\n",
            "Discount offered : 10\n",
            "Enter the price of item : 34\n",
            "Discount offered : 5\n",
            "Total Discounted Prices :  53.0\n",
            "Total Price after GST :  62.54\n"
          ]
        }
      ]
    }
  ]
}